{
  "nbformat": 4,
  "nbformat_minor": 0,
  "metadata": {
    "colab": {
      "name": "practical7(sparse_matrix).ipynb",
      "provenance": [],
      "collapsed_sections": [],
      "authorship_tag": "ABX9TyOL8076nQIHV/XKDI7pOJ5+",
      "include_colab_link": true
    },
    "kernelspec": {
      "name": "python3",
      "display_name": "Python 3"
    },
    "language_info": {
      "name": "python"
    }
  },
  "cells": [
    {
      "cell_type": "markdown",
      "metadata": {
        "id": "view-in-github",
        "colab_type": "text"
      },
      "source": [
        "<a href=\"https://colab.research.google.com/github/mundhra08/practical7/blob/main/practical7(sparse_matrix).ipynb\" target=\"_parent\"><img src=\"https://colab.research.google.com/assets/colab-badge.svg\" alt=\"Open In Colab\"/></a>"
      ]
    },
    {
      "cell_type": "code",
      "metadata": {
        "id": "KhYMDCS-muMo",
        "colab": {
          "base_uri": "https://localhost:8080/"
        },
        "outputId": "5fdac0b9-0899-481e-9b0d-be07623c4af1"
      },
      "source": [
        "m=int(input(\"enter the no. of row:\"))\n",
        "n=int(input(\"enter the no. of col:\"))\n",
        "\n",
        "def mat(m,n):\n",
        "  a=[]\n",
        "  for i in range(m):\n",
        "    mat=[]\n",
        "    for j in range(n):\n",
        "      num=int(input(\"enter the num \")) \n",
        "      mat.append(num)\n",
        "    a.append(mat)\n",
        "  return a\n",
        "\n",
        "def sp(): \n",
        " nt=0\n",
        " a=0\n",
        " a.append(m)\n",
        " a.append(n)\n",
        " a.append(o)\n",
        " sp.append(a)\n",
        " for i in range(m):\n",
        "   for j in range(n):\n",
        "     b=[]\n",
        "     if(mat[i][j]!=0):\n",
        "       b.append(i)\n",
        "       b.append(j)\n",
        "       b.append(mat[i][j])\n",
        "       nt=nt+1\n",
        "       sp.append(b)\n",
        "print(sp)      \n",
        "\n",
        "\n",
        "\n",
        "\n"
      ],
      "execution_count": null,
      "outputs": [
        {
          "output_type": "stream",
          "name": "stdout",
          "text": [
            "enter the no. of row:3\n",
            "enter the no. of col:3\n",
            "<function sp at 0x7f3439292710>\n"
          ]
        }
      ]
    }
  ]
}